{
 "cells": [
  {
   "cell_type": "code",
   "execution_count": null,
   "id": "f2c6c1c8-48ef-4d4e-9944-7fac59bc351e",
   "metadata": {},
   "outputs": [
    {
     "name": "stdout",
     "output_type": "stream",
     "text": [
      "✅ Carga completada.\n",
      "\n",
      "Introduce una frase para analizarla (o escribe 'q' para terminar):\n"
     ]
    },
    {
     "data": {
      "application/javascript": [
       "\n",
       "    var inputCells = document.querySelectorAll('input[type=\"text\"]');\n",
       "    if (inputCells.length > 0) {\n",
       "        inputCells[inputCells.length - 1].focus();\n",
       "    }\n"
      ],
      "text/plain": [
       "<IPython.core.display.Javascript object>"
      ]
     },
     "metadata": {},
     "output_type": "display_data"
    }
   ],
   "source": [
    "\n",
    "#######################################################################################################################################\n",
    "########## ANALIZADOR DE TEXTOS BY MIGUEL ÁNGEL RUIZ  ( www.linkedin.com/in/mangelruiz ) ##############################################\n",
    "#######################################################################################################################################\n",
    "\n",
    "from IPython.display import display, Javascript, clear_output\n",
    "import importlib.util\n",
    "import sys\n",
    "import subprocess\n",
    "\n",
    "print(\"Por favor espere unos segundos, comprobando e instalando módulos si es necesario...\")\n",
    "\n",
    "# Función para verificar si un módulo está instalado\n",
    "def is_module_installed(module_name):\n",
    "    return importlib.util.find_spec(module_name) is not None\n",
    "\n",
    "# Instalar spaCy si no está instalado\n",
    "if not is_module_installed(\"spacy\"):\n",
    "    print(\"→ Instalando spaCy...\")\n",
    "    subprocess.check_call([sys.executable, \"-m\", \"pip\", \"install\", \"spacy\"])\n",
    "\n",
    "# Importar spaCy y displacy\n",
    "import spacy\n",
    "from spacy import displacy\n",
    "\n",
    "# Descargar modelo en español si no está disponible\n",
    "try:\n",
    "    nlp = spacy.load(\"es_core_news_sm\")\n",
    "except OSError:\n",
    "    print(\"→ Descargando modelo 'es_core_news_sm'...\")\n",
    "    import spacy.cli\n",
    "    spacy.cli.download(\"es_core_news_sm\")\n",
    "    nlp = spacy.load(\"es_core_news_sm\")\n",
    "\n",
    "# Limpiar pantalla\n",
    "clear_output(wait=True)\n",
    "\n",
    "print(\"✅ Carga completada.\\n\")\n",
    "print(\"Introduce una frase para analizarla (o escribe 'q' para terminar):\")\n",
    "\n",
    "# JavaScript para enfocar automáticamente el campo de entrada de texto\n",
    "display(Javascript('''\n",
    "    var inputCells = document.querySelectorAll('input[type=\"text\"]');\n",
    "    if (inputCells.length > 0) {\n",
    "        inputCells[inputCells.length - 1].focus();\n",
    "    }\n",
    "'''))\n",
    "\n",
    "# Bucle de análisis\n",
    "while True:\n",
    "    frase = input(\"\\n→ \").strip()\n",
    "\n",
    "    if frase.lower() == \"q\" or frase == \"\":\n",
    "        print(\"\\nFin del análisis.\")\n",
    "        break\n",
    "\n",
    "    doc = nlp(frase)\n",
    "\n",
    "    # Mostrar el análisis sintáctico visualmente\n",
    "    displacy.render(doc, style=\"dep\", jupyter=True)\n",
    "\n",
    "    print(\"\\nAnálisis de tokens:\")\n",
    "    print(\"-\" * 40)\n",
    "    for token in doc:\n",
    "        print(f\"{token.text:<12} {token.pos_:<8} {token.dep_:<10} {token.head.text}\")\n",
    "\n"
   ]
  },
  {
   "cell_type": "code",
   "execution_count": null,
   "id": "89f32db2-8151-4399-b1fe-96f2391c93bc",
   "metadata": {},
   "outputs": [],
   "source": []
  }
 ],
 "metadata": {
  "kernelspec": {
   "display_name": "Python 3 (ipykernel)",
   "language": "python",
   "name": "python3"
  },
  "language_info": {
   "codemirror_mode": {
    "name": "ipython",
    "version": 3
   },
   "file_extension": ".py",
   "mimetype": "text/x-python",
   "name": "python",
   "nbconvert_exporter": "python",
   "pygments_lexer": "ipython3",
   "version": "3.10.16"
  }
 },
 "nbformat": 4,
 "nbformat_minor": 5
}
