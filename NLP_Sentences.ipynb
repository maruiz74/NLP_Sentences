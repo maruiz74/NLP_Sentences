{
 "cells": [
  {
   "cell_type": "code",
   "execution_count": 9,
   "id": "f2c6c1c8-48ef-4d4e-9944-7fac59bc351e",
   "metadata": {},
   "outputs": [
    {
     "name": "stdin",
     "output_type": "stream",
     "text": [
      "Introduce una frase para analizarla (o escribe 'q' para terminar)--> :  q\n"
     ]
    },
    {
     "name": "stdout",
     "output_type": "stream",
     "text": [
      "Fin del análisis.\n"
     ]
    }
   ],
   "source": [
    "# Carga librería\n",
    "!pip install spacy\n",
    "\n",
    "import spacy.cli\n",
    "import spacy\n",
    "\n",
    "from spacy import displacy\n",
    "\n",
    "# Descargar modelo de spaCy si no está instalado\n",
    "spacy.cli.download(\"es_core_news_sm\")\n",
    "\n",
    "# Cargar el modelo de spaCy en español\n",
    "nlp = spacy.load(\"es_core_news_sm\")\n",
    "\n",
    "while True:\n",
    "    # Pedir al usuario que introduzca una frase\n",
    "    frase = input(\"Introduce una frase para analizarla (o escribe 'q' para terminar)--> : \").strip()\n",
    "    \n",
    "    # Salir si la frase está vacía o es 'salir'\n",
    "    if frase.lower() == \"q\" or frase == \"\":\n",
    "        print(\"Fin del análisis.\")\n",
    "        break\n",
    "    \n",
    "    # Procesar la frase\n",
    "    doc = nlp(frase)\n",
    "    \n",
    "    # Mostrar el análisis sintáctico\n",
    "    displacy.render(doc, style=\"dep\", jupyter=True)\n",
    "\n",
    "    # Datos del análisis\n",
    "    for token in doc:\n",
    "        print(f\"{token.text:<12} {token.pos_:<8} {token.dep_:<10} {token.head.text}\")\n"
   ]
  },
  {
   "cell_type": "code",
   "execution_count": null,
   "id": "ec9bf44e-1b74-4c8e-a6bf-b825f1df362a",
   "metadata": {},
   "outputs": [],
   "source": []
  },
  {
   "cell_type": "code",
   "execution_count": null,
   "id": "c5f5139b-c1d2-4dbb-8021-31fc576533ce",
   "metadata": {},
   "outputs": [],
   "source": []
  }
 ],
 "metadata": {
  "kernelspec": {
   "display_name": "Python 3 (ipykernel)",
   "language": "python",
   "name": "python3"
  },
  "language_info": {
   "codemirror_mode": {
    "name": "ipython",
    "version": 3
   },
   "file_extension": ".py",
   "mimetype": "text/x-python",
   "name": "python",
   "nbconvert_exporter": "python",
   "pygments_lexer": "ipython3",
   "version": "3.10.16"
  }
 },
 "nbformat": 4,
 "nbformat_minor": 5
}
